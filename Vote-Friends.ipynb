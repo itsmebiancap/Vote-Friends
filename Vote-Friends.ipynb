{
 "cells": [
  {
   "cell_type": "code",
   "execution_count": 1,
   "metadata": {},
   "outputs": [
    {
     "name": "stdout",
     "output_type": "stream",
     "text": [
      "What's your name? Bianca \n",
      "Bianca , what's your age? 18\n",
      "Congratulations! You can vote!\n"
     ]
    }
   ],
   "source": [
    "#collect input from user\n",
    "name = input(\"What's your name? \")\n",
    "\n",
    "if name == 'Ee Laine':\n",
    "    print(\"Usually only humans can vote, but today, we will make an exception and let you vote. Stay slothy!\")\n",
    "if name == 'Ariel':\n",
    "    print(\"Since, I love you... you can vote!\")\n",
    "if name == 'Genieva':\n",
    "    print(\"Absolutely, go vote!\")\n",
    "if name == 'Miketa':\n",
    "    print(\"Girl, go \\'head n vote, now!<--> said in my country accent :) \")\n",
    "if name == 'Darrin':\n",
    "    print(\"I'm sure, there's some conspiracy against voting, so I rather you not. Sorry!\")\n",
    "if name == 'Rokeya':\n",
    "    print(\"Your vote means double!\")\n",
    "if name == 'Chris':\n",
    "    print(\"You voted for me, when we got married. :) \")\n",
    "    \n",
    "    name = True\n",
    "    while name:\n",
    "        if name == 'Ee Laine':\n",
    "            print(\"Sorry, but you can't go on.\")\n",
    "            break  \n",
    "            \n",
    "# collect age of user\n",
    "            \n",
    "else:\n",
    "    age = input(name + \", what's your age? \")\n",
    "    age = int(age)\n",
    "\n",
    "    #results of age will confirm they are allowed to vote\n",
    "if age >= 18:\n",
    "    print(\"Congratulations! You can vote!\")\n",
    "    \n",
    "    #results of age will deny them the right to vote.      \n",
    "else:\n",
    "     print(\"You are still a baby! Sorry, you cannot vote yet.\")"
   ]
  },
  {
   "cell_type": "code",
   "execution_count": null,
   "metadata": {
    "collapsed": true
   },
   "outputs": [],
   "source": []
  },
  {
   "cell_type": "code",
   "execution_count": null,
   "metadata": {
    "collapsed": true
   },
   "outputs": [],
   "source": []
  }
 ],
 "metadata": {
  "kernelspec": {
   "display_name": "Python 3",
   "language": "python",
   "name": "python3"
  },
  "language_info": {
   "codemirror_mode": {
    "name": "ipython",
    "version": 3
   },
   "file_extension": ".py",
   "mimetype": "text/x-python",
   "name": "python",
   "nbconvert_exporter": "python",
   "pygments_lexer": "ipython3",
   "version": "3.6.3"
  }
 },
 "nbformat": 4,
 "nbformat_minor": 2
}
